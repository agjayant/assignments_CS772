{
 "cells": [
  {
   "cell_type": "code",
   "execution_count": 2,
   "metadata": {},
   "outputs": [],
   "source": [
    "import numpy as np\n",
    "import matplotlib.pyplot as plt"
   ]
  },
  {
   "cell_type": "code",
   "execution_count": 89,
   "metadata": {
    "collapsed": true
   },
   "outputs": [],
   "source": [
    "## Approximation for target distribution\n",
    "def p_tilde(z):\n",
    "    mu = np.asarray([4,4])\n",
    "    Sigma = np.asarray([[1,0.8],[0.8,1]])\n",
    "    exp_factor = np.dot(np.dot(np.transpose(z-mu),np.linalg.inv(Sigma)), (z-mu) )\n",
    "    return np.exp(-0.5*exp_factor)"
   ]
  },
  {
   "cell_type": "code",
   "execution_count": 118,
   "metadata": {},
   "outputs": [
    {
     "name": "stdout",
     "output_type": "stream",
     "text": [
      "859064 10000\n"
     ]
    }
   ],
   "source": [
    "sigma2 = 100\n",
    "Sigma = np.asarray([[sigma2,0.0],[0.0,sigma2]])\n",
    "prevz = np.asarray([0,0])\n",
    "max_iter = 10000000\n",
    "num_samples = 10000\n",
    "cur_samples = 0\n",
    "samples = []\n",
    "for i in range(max_iter):\n",
    "    if cur_samples >= num_samples:\n",
    "        break\n",
    "        \n",
    "    u = np.random.uniform(0,1.0)\n",
    "    z_star = np.random.multivariate_normal(prevz, Sigma)\n",
    "    A = min(1, p_tilde(z_star)/p_tilde(prevz))\n",
    "    \n",
    "    if u < A :\n",
    "        samples.append(z_star)\n",
    "        cur_samples += 1\n",
    "        prevz = z_star\n",
    "        \n",
    "print i,cur_samples"
   ]
  },
  {
   "cell_type": "code",
   "execution_count": 119,
   "metadata": {},
   "outputs": [],
   "source": [
    "x = []\n",
    "y = []\n",
    "for item in samples:\n",
    "    x.append(item[0])\n",
    "    y.append(item[1])"
   ]
  },
  {
   "cell_type": "code",
   "execution_count": 120,
   "metadata": {},
   "outputs": [
    {
     "data": {
      "image/png": "[encoded data removed]",
      "text/plain": [
       "<matplotlib.figure.Figure at 0x7f1f24b43210>"
      ]
     },
     "metadata": {},
     "output_type": "display_data"
    }
   ],
   "source": [
    "fig, ax1 = plt.subplots()\n",
    "ax1.plot(x, y,'ro', label=\"samples\")\n",
    "# ax1.set_xlabel('iterations', color=\"white\")\n",
    "# ax1.set_ylabel('mae', color='white')\n",
    "ax1.tick_params('y', colors='white')\n",
    "ax1.tick_params('x', colors='white')\n",
    "l1 = ax1.legend(bbox_to_anchor=(1.1 ,0.5), loc=2, borderaxespad=0.)\n",
    "# ax1.set_ylim([1.105,1.125])\n",
    "plt.show()"
   ]
  }
 ],
 "metadata": {
  "kernelspec": {
   "display_name": "Python 2",
   "language": "python",
   "name": "python2"
  },
  "language_info": {
   "codemirror_mode": {
    "name": "ipython",
    "version": 2
   },
   "file_extension": ".py",
   "mimetype": "text/x-python",
   "name": "python",
   "nbconvert_exporter": "python",
   "pygments_lexer": "ipython2",
   "version": "2.7.13"
  }
 },
 "nbformat": 4,
 "nbformat_minor": 2
}
